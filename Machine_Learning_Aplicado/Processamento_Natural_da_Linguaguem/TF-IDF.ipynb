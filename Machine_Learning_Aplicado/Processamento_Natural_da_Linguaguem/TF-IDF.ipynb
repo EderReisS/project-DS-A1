{
 "cells": [
  {
   "cell_type": "markdown",
   "id": "75b84a5b",
   "metadata": {
    "toc": true
   },
   "source": [
    "<h1>Sumário<span class=\"tocSkip\"></span></h1>\n",
    "<div class=\"toc\"><ul class=\"toc-item\"><li><span><a href=\"#O-que-é?\" data-toc-modified-id=\"O-que-é?-1\"><span class=\"toc-item-num\">1&nbsp;&nbsp;</span>O que é?</a></span><ul class=\"toc-item\"><li><span><a href=\"#Frequência-do-termo-(tf)\" data-toc-modified-id=\"Frequência-do-termo-(tf)-1.1\"><span class=\"toc-item-num\">1.1&nbsp;&nbsp;</span>Frequência do termo (tf)</a></span></li><li><span><a href=\"#Inverso-da-frequência-nos-documentos-(idf)\" data-toc-modified-id=\"Inverso-da-frequência-nos-documentos-(idf)-1.2\"><span class=\"toc-item-num\">1.2&nbsp;&nbsp;</span>Inverso da frequência nos documentos (idf)</a></span></li></ul></li><li><span><a href=\"#Exemplo\" data-toc-modified-id=\"Exemplo-2\"><span class=\"toc-item-num\">2&nbsp;&nbsp;</span>Exemplo</a></span><ul class=\"toc-item\"><li><span><a href=\"#Função-de-cálculo-tf\" data-toc-modified-id=\"Função-de-cálculo-tf-2.1\"><span class=\"toc-item-num\">2.1&nbsp;&nbsp;</span>Função de cálculo tf</a></span></li><li><span><a href=\"#Função-de-cálculo-idf\" data-toc-modified-id=\"Função-de-cálculo-idf-2.2\"><span class=\"toc-item-num\">2.2&nbsp;&nbsp;</span>Função de cálculo idf</a></span></li><li><span><a href=\"#Função-de-cálculo-tf-idf\" data-toc-modified-id=\"Função-de-cálculo-tf-idf-2.3\"><span class=\"toc-item-num\">2.3&nbsp;&nbsp;</span>Função de cálculo tf-idf</a></span></li></ul></li></ul></div>"
   ]
  },
  {
   "cell_type": "markdown",
   "id": "a596577e",
   "metadata": {},
   "source": [
    "# TF-IDF"
   ]
  },
  {
   "cell_type": "markdown",
   "id": "baf67419",
   "metadata": {},
   "source": [
    "## O que é?\n",
    "É uma métrica que busca refletir quão importante é uma palavra em um documento em um conjuntos de documentos. \n",
    "\n",
    "$$\n",
    "\\mathrm {tfidf} (t,d,D)=\\mathrm {tf} (t,d)\\cdot \\mathrm {idf} (t,D)\n",
    "$$\n",
    "\n",
    "### Frequência do termo (tf)\n",
    "Suponha que foram selecionados uma coleção de documento de textos em português e que nós desejamos determinar qual deles tem maior relação com a frase \"uma vaca amarela\". Uma maneira simples de iniciar essa análise seria simplesmente descartar todos os documentos que não contém as palavras \"uma\", \"vaca\" e \"amarela\", mas apenas esse procedimento não seria suficiente para completar a análise, pois muitos documentos provavelmente possuem as três palavras. Assim, para melhorar a distinção entre elas, nós podemos contar o número de vezes que um dos termos ocorre em cada documento e somar esse valor; o número de vezes que um termo ocorre em um documento é a frequência do termo.\n",
    "\n",
    "A primeira forma de ponderação de termos é atribuída a Hans Peter Luhn (1957) e se baseia na suposição de Luhn:\n",
    "\n",
    "O peso de um termo que ocorre em um documento é diretamente proporcional à sua frequência.[2]\n",
    "\n",
    "$$\n",
    "\\mathrm {tf} (t,d)={\\frac {f_{t,d}}{\\sum _{t'\\in d}{f_{t',d}}}}\n",
    "$$\n",
    "\n",
    "where ft,d is the raw count of a term in a document, i.e., the number of times that term t occurs in document d. There are various other ways to define term frequency:[5]: 128 \n",
    "\n",
    "- the raw count itself: tf(t,d) = ft,d\n",
    "- Boolean \"frequencies\": tf(t,d) = 1 if t occurs in d and 0 otherwise;\n",
    "- term frequency adjusted for document length: tf(t,d) = ft,d ÷ (number of words in d)\n",
    "- logarithmically scaled frequency: tf(t,d) = log (1 + ft,d);[6]\n",
    "- augmented frequency, to prevent a bias towards longer documents, e.g. raw frequency divided by the raw frequency of the most frequently occurring term in the document:\n",
    "\n",
    "### Inverso da frequência nos documentos (idf)\n",
    "No entanto, como o termo \"uma\" é muito comum, isso vai dar ênfase em documentos que utilizam essa palavra com mais frequência, sem dar a ênfase apropriada para termos com mais significado como \"vaca\" e \"amarela\". O termo \"uma\" não é uma boa palavra-chave para distinguir documentos relevantes de não-relevantes em comparação com as palavras \"vaca\" e \"amarela\". Assim, o inverso da frequência do termo nos documentos é incorporado para diminuir o peso dos termos que ocorrem mais frequentemente no conjunto de textos selecionados, ao mesmo tempo que aumenta o peso daqueles que ocorrem raramente.\n",
    "\n",
    "Karen Spärck Jones (1972) concebeu uma interpretação estatística do termo IDF, que se tornou um conceito base para a ponderação de termos:\n",
    "\n",
    "A especificidade de um termo pode ser quantificada por uma função inversa do número de documentos em que ele ocorre.[3]\n",
    "\n",
    "$$\n",
    "{\\displaystyle \\mathrm {idf} (t,D)=\\log {\\frac {N}{|\\{d\\in D:t\\in d\\}|}}} \\mathrm{idf}(t, D) =  \\log \\frac{N}{|\\{d \\in D: t \\in d\\}|}\n",
    "$$\n",
    "\n",
    "- N: total number of documents in the corpus {\\displaystyle N={|D|}}N = {|D|}\n",
    "\n",
    "- $${\\displaystyle |\\{d\\in D:t\\in d\\}|} |\\{d \\in D: t \\in d\\}| $$ : number of documents where the term {\\displaystyle t}t appears (i.e., $${\\displaystyle \\mathrm {tf} (t,d)\\neq 0} \\mathrm{tf}(t,d) \\neq 0)$$. If the term is not in the corpus, this will lead to a division-by-zero. It is therefore common to adjust the denominator to $${\\displaystyle 1+|\\{d\\in D:t\\in d\\}|}1 + |\\{d \\in D: t \\in d\\}|$$.\n",
    "\n"
   ]
  },
  {
   "cell_type": "markdown",
   "id": "e6ca10cc",
   "metadata": {},
   "source": [
    "## Exemplo\n",
    "Criando texto aleatoriamente com [lorem ipsum](https://pt.lipsum.com/)."
   ]
  },
  {
   "cell_type": "code",
   "execution_count": 1,
   "id": "647ab78e",
   "metadata": {
    "ExecuteTime": {
     "end_time": "2022-02-02T22:59:59.742002Z",
     "start_time": "2022-02-02T22:59:59.737406Z"
    }
   },
   "outputs": [],
   "source": [
    "#lorem ipsum de 20 palavras\n",
    "d1 = 'Lorem ipsum dolor sit amet, consectetur adipiscing elit. Aliquam congue, quam vel pellentesque suscipit, metus metus pellentesque ante, quis tristique.'\n",
    "#lorem ipsum de 50 palavras\n",
    "d2 = 'Lorem ipsum dolor sit amet, consectetur adipiscing elit. In id faucibus orci. Integer eget arcu accumsan, aliquet nulla ut, egestas magna. Aliquam maximus at nulla id faucibus. Aliquam erat volutpat. Nam metus felis, condimentum in eleifend et, sodales eu nunc. In massa odio, commodo nec viverra non, dignissim eu ex.'\n",
    "#lorem ipsum de 100 palavras\n",
    "d3 ='Lorem ipsum dolor sit amet, consectetur adipiscing elit. Vestibulum malesuada augue vitae semper lobortis. Cras nec volutpat sapien, eget pretium ipsum. Phasellus dignissim dictum quam, et efficitur lacus facilisis vitae. Praesent rutrum elit at sem maximus, id dictum odio mollis. Sed nisl orci, consectetur id tempor ac, laoreet ac erat. Integer imperdiet, mauris sed convallis maximus, diam turpis elementum tortor, ac auctor felis quam eget risus. Curabitur sit amet tristique sem. Duis sed dolor nibh. Vivamus nec elit mollis, pharetra risus et, mollis tellus. Donec posuere, urna convallis bibendum efficitur, enim dui sagittis lorem, non feugiat tellus risus efficitur ipsum.'"
   ]
  },
  {
   "cell_type": "markdown",
   "id": "b3bff33d",
   "metadata": {},
   "source": [
    "### Função de cálculo tf"
   ]
  },
  {
   "cell_type": "code",
   "execution_count": 42,
   "id": "d895eea2",
   "metadata": {
    "ExecuteTime": {
     "end_time": "2022-02-02T23:48:47.320927Z",
     "start_time": "2022-02-02T23:48:47.313465Z"
    }
   },
   "outputs": [],
   "source": [
    "def tf(palavra:str,documento:str)->float:    \n",
    "    freq_palavra = documento.count(palavra)\n",
    "    total_palavaras = documento.count(' ')+1\n",
    "    tf = freq_palavra/total_palavaras\n",
    "    tf = round(tf,3)\n",
    "    \n",
    "    return tf    "
   ]
  },
  {
   "cell_type": "code",
   "execution_count": 23,
   "id": "63016bb1",
   "metadata": {
    "ExecuteTime": {
     "end_time": "2022-02-02T23:13:14.052992Z",
     "start_time": "2022-02-02T23:13:14.044508Z"
    }
   },
   "outputs": [
    {
     "name": "stdout",
     "output_type": "stream",
     "text": [
      "tf da palavra 'ipsum' em: \n",
      "d1: 0.05\n",
      "d2: 0.02\n",
      "d3: 0.03\n",
      "\n"
     ]
    }
   ],
   "source": [
    "palavra = 'ipsum'\n",
    "print(f'''tf da palavra '{palavra}' em: \n",
    "d1: {tf(palavra,d1)}\n",
    "d2: {tf(palavra,d2)}\n",
    "d3: {tf(palavra,d3)}\n",
    "''')"
   ]
  },
  {
   "cell_type": "markdown",
   "id": "325aeafd",
   "metadata": {},
   "source": [
    "### Função de cálculo idf"
   ]
  },
  {
   "cell_type": "code",
   "execution_count": 43,
   "id": "6fb47037",
   "metadata": {
    "ExecuteTime": {
     "end_time": "2022-02-02T23:48:49.926060Z",
     "start_time": "2022-02-02T23:48:49.917128Z"
    }
   },
   "outputs": [],
   "source": [
    "from math import log\n",
    "\n",
    "def idf(palavra:str,documentos:list)->float:\n",
    "    existe_palavra = 0\n",
    "    for doc in documentos:\n",
    "        if palavra in doc:\n",
    "            existe_palavra+=1\n",
    "    N = len(documentos)\n",
    "    try:\n",
    "        idf = log(N/existe_palavra)\n",
    "        idf = round(idf,3)\n",
    "        \n",
    "    except ZeroDivisionError:\n",
    "        idf = None\n",
    "    \n",
    "    return idf"
   ]
  },
  {
   "cell_type": "code",
   "execution_count": 52,
   "id": "1c2b0c9a",
   "metadata": {
    "ExecuteTime": {
     "end_time": "2022-02-02T23:50:30.761611Z",
     "start_time": "2022-02-02T23:50:30.755736Z"
    }
   },
   "outputs": [
    {
     "name": "stdout",
     "output_type": "stream",
     "text": [
      "\n",
      "idf da palavra 'volutpat' em D = [d1,d2,d3] é 0.405\n",
      "\n",
      "\n",
      "idf da palavra 'nulla' em D = [d1,d2,d3] é 1.099\n",
      "\n"
     ]
    }
   ],
   "source": [
    "palavra = 'volutpat'\n",
    "print(f'''\n",
    "idf da palavra '{palavra}' em D = [d1,d2,d3] é {idf(palavra,[d1,d2,d3])}\n",
    "''')\n",
    "palavra = 'nulla'\n",
    "print(f'''\n",
    "idf da palavra '{palavra}' em D = [d1,d2,d3] é {idf(palavra,[d1,d2,d3])}\n",
    "''')"
   ]
  },
  {
   "cell_type": "markdown",
   "id": "91136993",
   "metadata": {},
   "source": [
    "### Função de cálculo tf-idf"
   ]
  },
  {
   "cell_type": "code",
   "execution_count": 44,
   "id": "0209a637",
   "metadata": {
    "ExecuteTime": {
     "end_time": "2022-02-02T23:48:52.538156Z",
     "start_time": "2022-02-02T23:48:52.533103Z"
    }
   },
   "outputs": [],
   "source": [
    "def tf_idf(palavra:str,documento:str,conjunto_documentos:list)->float:\n",
    "    tf_valor = tf(palavra,documento)\n",
    "    idf_valor = idf(palavra,conjunto_documentos)\n",
    "    \n",
    "    try:\n",
    "        tf_idf =tf_valor*idf_valor\n",
    "        tf_idf = round(tf_idf,3)\n",
    "    except:\n",
    "        tf_idf=None\n",
    "    \n",
    "    return tf_idf"
   ]
  },
  {
   "cell_type": "code",
   "execution_count": null,
   "id": "edc16527",
   "metadata": {},
   "outputs": [],
   "source": [
    "conjuntos_documentos = [d1,d2,d3]\n"
   ]
  },
  {
   "cell_type": "code",
   "execution_count": 53,
   "id": "589bc3d2",
   "metadata": {
    "ExecuteTime": {
     "end_time": "2022-02-02T23:50:38.909143Z",
     "start_time": "2022-02-02T23:50:38.904719Z"
    }
   },
   "outputs": [],
   "source": [
    "palavra = 'volutpat'"
   ]
  },
  {
   "cell_type": "code",
   "execution_count": 54,
   "id": "36637c7d",
   "metadata": {
    "ExecuteTime": {
     "end_time": "2022-02-02T23:50:41.102037Z",
     "start_time": "2022-02-02T23:50:41.094335Z"
    }
   },
   "outputs": [
    {
     "name": "stdout",
     "output_type": "stream",
     "text": [
      "\n",
      "    tf_idf da palavra 'volutpat' em d0 D = [d1,d2,d3] é 0.0\n",
      "    \n",
      "\n",
      "    tf_idf da palavra 'volutpat' em d1 D = [d1,d2,d3] é 0.008\n",
      "    \n",
      "\n",
      "    tf_idf da palavra 'volutpat' em d2 D = [d1,d2,d3] é 0.004\n",
      "    \n"
     ]
    }
   ],
   "source": [
    "for i in range(len(conjuntos_documentos)):\n",
    "    documento = conjuntos_documentos[i]\n",
    "\n",
    "    tf_idf_valor= tf_idf(palavra=palavra ,documento = documento, conjunto_documentos=conjuntos_documentos)\n",
    "\n",
    "    print(f'''\n",
    "    tf_idf da palavra '{palavra}' em d{i} D = [d1,d2,d3] é {tf_idf_valor}\n",
    "    ''')"
   ]
  }
 ],
 "metadata": {
  "kernelspec": {
   "display_name": "Python 3 (ipykernel)",
   "language": "python",
   "name": "python3"
  },
  "language_info": {
   "codemirror_mode": {
    "name": "ipython",
    "version": 3
   },
   "file_extension": ".py",
   "mimetype": "text/x-python",
   "name": "python",
   "nbconvert_exporter": "python",
   "pygments_lexer": "ipython3",
   "version": "3.8.10"
  },
  "toc": {
   "base_numbering": 1,
   "nav_menu": {},
   "number_sections": true,
   "sideBar": true,
   "skip_h1_title": true,
   "title_cell": "Sumário",
   "title_sidebar": "Contents",
   "toc_cell": true,
   "toc_position": {},
   "toc_section_display": true,
   "toc_window_display": false
  },
  "varInspector": {
   "cols": {
    "lenName": 16,
    "lenType": 16,
    "lenVar": 40
   },
   "kernels_config": {
    "python": {
     "delete_cmd_postfix": "",
     "delete_cmd_prefix": "del ",
     "library": "var_list.py",
     "varRefreshCmd": "print(var_dic_list())"
    },
    "r": {
     "delete_cmd_postfix": ") ",
     "delete_cmd_prefix": "rm(",
     "library": "var_list.r",
     "varRefreshCmd": "cat(var_dic_list()) "
    }
   },
   "types_to_exclude": [
    "module",
    "function",
    "builtin_function_or_method",
    "instance",
    "_Feature"
   ],
   "window_display": false
  }
 },
 "nbformat": 4,
 "nbformat_minor": 5
}
