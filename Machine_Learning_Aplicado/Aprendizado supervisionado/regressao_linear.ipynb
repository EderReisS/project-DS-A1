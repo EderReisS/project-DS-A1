{
 "cells": [
  {
   "cell_type": "markdown",
   "id": "69252ad3",
   "metadata": {
    "toc": true
   },
   "source": [
    "<h1>Sumário<span class=\"tocSkip\"></span></h1>\n",
    "<div class=\"toc\"><ul class=\"toc-item\"></ul></div>"
   ]
  },
  {
   "cell_type": "markdown",
   "id": "c811d4fb",
   "metadata": {},
   "source": [
    "# Regressão Linear\n",
    "\n",
    "- O que é ?\n",
    "A regressão linear é chamada \"linear\" porque se considera que a relação da resposta às variáveis é uma função linear de alguns parâmetros. Os modelos de regressão que não são uma função linear dos parâmetros se chamam modelos de regressão não-linear. Sendo uma das primeiras formas de análise regressiva a ser estudada rigorosamente, é usada extensamente em aplicações práticas. Isso acontece porque modelos que dependem de forma linear dos seus parâmetros desconhecidos, são mais fáceis de ajustar que os modelos não-lineares aos seus parâmetros, e porque as propriedades estatísticas dos estimadores resultantes são fáceis de determinar.[3]\n",
    "\n",
    "Modelos de regressão linear são frequentemente ajustados usando a abordagem dos mínimos quadrados, mas que também pode ser montada de outras maneiras, tal como minimizando a \"falta de ajuste\" em alguma outra norma (com menos desvios absolutos de regressão), ou através da minimização de uma penalização da versão dos mínimos quadrados. Por outro lado, a abordagem de mínimos quadrados pode ser utilizado para ajustar a modelos que não são modelos lineares. Assim, embora os termos \"mínimos quadrados\" e \"modelo linear\" estejam intimamente ligados, eles não são sinônimos.\n",
    "\n",
    "- Equação da regressão linear\n",
    "Para se estimar o valor esperado, usa-se de uma equação, que determina a relação entre ambas as variáveis.\n",
    "$$\n",
    "{\\displaystyle y_{i}=\\alpha +\\beta \\,X_{i}+\\varepsilon _{i}}{\\displaystyle y_{i}=\\alpha +\\beta \\,X_{i}+\\varepsilon _{i}}\n",
    "$$\n",
    ", onde:\n",
    "\n",
    "$$\n",
    "{\\displaystyle y_{i}}y_{i}: \n",
    "$$\n",
    "\n",
    "Variável explicada (dependente); representa o que o modelo tentará prever\n",
    "$$\n",
    "{\\displaystyle \\alpha }\\alpha:\n",
    "$$\n",
    "É uma constante, que representa a interceptação da reta com o eixo vertical;\n",
    "\n",
    "$${\\displaystyle \\beta }\\beta$$: Representa a inclinação (coeficiente angular) em relação à variável explicativa;\n",
    "\n",
    "$${\\displaystyle X_{i}}X_{i}$$: Variável explicativa (independente);\n",
    "\n",
    "$${\\displaystyle \\varepsilon _{i}}{\\displaystyle \\varepsilon _{i}}$$: Representa todos os factores residuais mais os possíveis erros de medição. O seu comportamento é aleatório, devido à natureza dos factores que encerra. Para que essa fórmula possa ser aplicada, os erros devem satisfazer determinadas hipóteses, que são: terem distribuição normal, com a mesma variância $${\\displaystyle \\sigma ^{2}\\,}\\sigma ^{2}\\$$,, independentes e independentes da variável explicativa X, ou seja, i.i.d. (independentes e identicamente distribuídas)."
   ]
  },
  {
   "cell_type": "markdown",
   "id": "8aa46105",
   "metadata": {},
   "source": [
    "# Aplicação"
   ]
  },
  {
   "cell_type": "code",
   "execution_count": 1,
   "id": "9a0c8663",
   "metadata": {
    "ExecuteTime": {
     "end_time": "2022-02-08T23:53:25.394096Z",
     "start_time": "2022-02-08T23:53:23.439989Z"
    }
   },
   "outputs": [],
   "source": [
    "import pandas as pd\n",
    "import matplotlib.pyplot as plt\n",
    "import seaborn as sns"
   ]
  },
  {
   "cell_type": "code",
   "execution_count": null,
   "id": "d0f61a59",
   "metadata": {},
   "outputs": [],
   "source": [
    "## Importação dos dados\n",
    "data = pd.read_csv('')"
   ]
  },
  {
   "cell_type": "code",
   "execution_count": null,
   "id": "758f01bc",
   "metadata": {},
   "outputs": [],
   "source": [
    "i"
   ]
  }
 ],
 "metadata": {
  "kernelspec": {
   "display_name": "Python 3 (ipykernel)",
   "language": "python",
   "name": "python3"
  },
  "language_info": {
   "codemirror_mode": {
    "name": "ipython",
    "version": 3
   },
   "file_extension": ".py",
   "mimetype": "text/x-python",
   "name": "python",
   "nbconvert_exporter": "python",
   "pygments_lexer": "ipython3",
   "version": "3.8.10"
  },
  "toc": {
   "base_numbering": 1,
   "nav_menu": {},
   "number_sections": true,
   "sideBar": true,
   "skip_h1_title": true,
   "title_cell": "Sumário",
   "title_sidebar": "Contents",
   "toc_cell": true,
   "toc_position": {},
   "toc_section_display": true,
   "toc_window_display": false
  },
  "varInspector": {
   "cols": {
    "lenName": 16,
    "lenType": 16,
    "lenVar": 40
   },
   "kernels_config": {
    "python": {
     "delete_cmd_postfix": "",
     "delete_cmd_prefix": "del ",
     "library": "var_list.py",
     "varRefreshCmd": "print(var_dic_list())"
    },
    "r": {
     "delete_cmd_postfix": ") ",
     "delete_cmd_prefix": "rm(",
     "library": "var_list.r",
     "varRefreshCmd": "cat(var_dic_list()) "
    }
   },
   "types_to_exclude": [
    "module",
    "function",
    "builtin_function_or_method",
    "instance",
    "_Feature"
   ],
   "window_display": false
  }
 },
 "nbformat": 4,
 "nbformat_minor": 5
}
